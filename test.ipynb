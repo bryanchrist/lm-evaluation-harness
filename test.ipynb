{
 "cells": [
  {
   "cell_type": "code",
   "execution_count": 19,
   "id": "ec6d7c67-a81d-441a-94d5-508cf0080a8d",
   "metadata": {},
   "outputs": [],
   "source": [
    "import re\n",
    "class RegexFilter():\n",
    "    \"\"\" \"\"\"\n",
    "\n",
    "    def __init__(\n",
    "        self,\n",
    "        regex_pattern: str = r\"#### (\\-?[0-9\\.\\,]+)\",\n",
    "        group_select=0,\n",
    "        fallback: str = \"[invalid]\",\n",
    "    ) -> None:\n",
    "        \"\"\"\n",
    "        pass a string `regex` to run `re.compile(r\"regex\")` on.\n",
    "        `fallback` defines the output returned if no matches for the regex are located.\n",
    "        \"\"\"\n",
    "        self.regex_pattern = regex_pattern\n",
    "        self.regex = re.compile(regex_pattern)\n",
    "        self.group_select = group_select\n",
    "        self.fallback = fallback\n",
    "\n",
    "    def apply(self, resps, docs):\n",
    "        # here, we assume we have a list, in which each element is\n",
    "        # a list of model responses for some particular input/target pair.\n",
    "        # so we process each of these (same input/target response sets)\n",
    "        # independently (and keep them a list.)\n",
    "        def filter_set(inst):\n",
    "            filtered = []\n",
    "            for resp in inst:\n",
    "                match = self.regex.findall(resp)\n",
    "                if match:\n",
    "                    match = match[self.group_select]\n",
    "                    if isinstance(match, tuple):\n",
    "                        match = [m for m in match if m][0]\n",
    "                    match = match.strip()\n",
    "                    try: \n",
    "                        match = float(match)\n",
    "                        match = str(match)\n",
    "                        print(match)\n",
    "                    except: \n",
    "                        print(match)\n",
    "                        match = match\n",
    "                else:\n",
    "                    match = self.fallback\n",
    "                filtered.append(match)\n",
    "            return filtered\n",
    "\n",
    "        # print(resps)\n",
    "        filtered_resps = list(map(lambda x: filter_set(x), resps))\n",
    "        # print(filtered_resps)\n",
    "\n",
    "        return filtered_resps\n"
   ]
  },
  {
   "cell_type": "code",
   "execution_count": 20,
   "id": "de7b1a63-6fe1-4ff6-b130-ef00ae1266e8",
   "metadata": {},
   "outputs": [
    {
     "data": {
      "text/plain": [
       "'(-?[$0-9.,]{2,})|(-?[0-9]+)'"
      ]
     },
     "execution_count": 20,
     "metadata": {},
     "output_type": "execute_result"
    }
   ],
   "source": [
    "test = RegexFilter()\n",
    "test.regex_pattern = \"(-?[$0-9.,]{2,})|(-?[0-9]+)\"\n",
    "test.regex_pattern"
   ]
  },
  {
   "cell_type": "code",
   "execution_count": 24,
   "id": "2e65d500-d2df-44a4-acdc-10de5d5fc00c",
   "metadata": {},
   "outputs": [
    {
     "ename": "TypeError",
     "evalue": "RegexFilter.apply() missing 1 required positional argument: 'docs'",
     "output_type": "error",
     "traceback": [
      "\u001b[0;31m---------------------------------------------------------------------------\u001b[0m",
      "\u001b[0;31mTypeError\u001b[0m                                 Traceback (most recent call last)",
      "Cell \u001b[0;32mIn[24], line 1\u001b[0m\n\u001b[0;32m----> 1\u001b[0m \u001b[43mtest\u001b[49m\u001b[38;5;241;43m.\u001b[39;49m\u001b[43mapply\u001b[49m\u001b[43m(\u001b[49m\u001b[43m[\u001b[49m\u001b[43m[\u001b[49m\u001b[38;5;124;43m\"\u001b[39;49m\u001b[38;5;124;43m49.0\u001b[39;49m\u001b[38;5;124;43m\"\u001b[39;49m\u001b[43m,\u001b[49m\u001b[43m \u001b[49m\u001b[38;5;124;43m'\u001b[39;49m\u001b[38;5;124;43mpizza\u001b[39;49m\u001b[38;5;124;43m'\u001b[39;49m\u001b[43m,\u001b[49m\u001b[43m \u001b[49m\u001b[38;5;124;43m'\u001b[39;49m\u001b[38;5;124;43myour mom\u001b[39;49m\u001b[38;5;124;43m'\u001b[39;49m\u001b[43m]\u001b[49m\u001b[43m]\u001b[49m\u001b[43m)\u001b[49m\n",
      "\u001b[0;31mTypeError\u001b[0m: RegexFilter.apply() missing 1 required positional argument: 'docs'"
     ]
    }
   ],
   "source": [
    "test.apply([[\"49.0\", 'pizza', 'your mom']])"
   ]
  },
  {
   "cell_type": "code",
   "execution_count": 25,
   "id": "8a372751-0683-42db-bc69-fb13b2071218",
   "metadata": {},
   "outputs": [],
   "source": [
    "regex_pattern = \"(-?[$0-9.,]{2,})|(-?[0-9]+)\"\n",
    "regex = re.compile(regex_pattern)"
   ]
  },
  {
   "cell_type": "code",
   "execution_count": 29,
   "id": "999a0464-3722-41e2-82f7-3a7e9e486fcd",
   "metadata": {},
   "outputs": [
    {
     "data": {
      "text/plain": [
       "[('49.0', ''), ('40009,', ''), ('43.2223', '')]"
      ]
     },
     "execution_count": 29,
     "metadata": {},
     "output_type": "execute_result"
    }
   ],
   "source": [
    "regex.findall(\"'49.0', 'pizza', 'your mom', 40009, 43.2223\")"
   ]
  },
  {
   "cell_type": "code",
   "execution_count": null,
   "id": "12a255e3-7bea-4d86-9b36-efa17defab43",
   "metadata": {},
   "outputs": [],
   "source": []
  }
 ],
 "metadata": {
  "kernelspec": {
   "display_name": "Python 3 (ipykernel)",
   "language": "python",
   "name": "python3"
  },
  "language_info": {
   "codemirror_mode": {
    "name": "ipython",
    "version": 3
   },
   "file_extension": ".py",
   "mimetype": "text/x-python",
   "name": "python",
   "nbconvert_exporter": "python",
   "pygments_lexer": "ipython3",
   "version": "3.11.5"
  }
 },
 "nbformat": 4,
 "nbformat_minor": 5
}
